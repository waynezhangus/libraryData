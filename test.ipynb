{
 "cells": [
  {
   "cell_type": "code",
   "execution_count": 1,
   "metadata": {},
   "outputs": [],
   "source": [
    "import pandas as pd\n",
    "import numpy as np\n",
    "import matplotlib.pyplot as plt\n",
    "import seaborn as sns\n",
    "import os\n",
    "import warnings\n",
    "warnings.filterwarnings('ignore')\n",
    "%matplotlib inline"
   ]
  },
  {
   "cell_type": "code",
   "execution_count": 4,
   "metadata": {},
   "outputs": [],
   "source": [
    "# import barcodes.txt\n",
    "barcodes = pd.read_csv('barcodes.txt', sep='\\t', header=None)"
   ]
  },
  {
   "cell_type": "code",
   "execution_count": 4,
   "metadata": {},
   "outputs": [
    {
     "data": {
      "text/html": [
       "<div>\n",
       "<style scoped>\n",
       "    .dataframe tbody tr th:only-of-type {\n",
       "        vertical-align: middle;\n",
       "    }\n",
       "\n",
       "    .dataframe tbody tr th {\n",
       "        vertical-align: top;\n",
       "    }\n",
       "\n",
       "    .dataframe thead th {\n",
       "        text-align: right;\n",
       "    }\n",
       "</style>\n",
       "<table border=\"1\" class=\"dataframe\">\n",
       "  <thead>\n",
       "    <tr style=\"text-align: right;\">\n",
       "      <th></th>\n",
       "      <th>Loan Date</th>\n",
       "      <th>Patron Id</th>\n",
       "      <th>Patron Group</th>\n",
       "      <th>Due Date</th>\n",
       "      <th>Barcode</th>\n",
       "      <th>Circ Desk Name</th>\n",
       "      <th>Description</th>\n",
       "    </tr>\n",
       "  </thead>\n",
       "  <tbody>\n",
       "    <tr>\n",
       "      <th>0</th>\n",
       "      <td>2023-01-09</td>\n",
       "      <td>-1</td>\n",
       "      <td>NaN</td>\n",
       "      <td>2023-01-09</td>\n",
       "      <td>HP001</td>\n",
       "      <td>CLICC Circ Desk</td>\n",
       "      <td>WL-BIO-01</td>\n",
       "    </tr>\n",
       "    <tr>\n",
       "      <th>1</th>\n",
       "      <td>2023-01-09</td>\n",
       "      <td>-1</td>\n",
       "      <td>NaN</td>\n",
       "      <td>2023-01-09</td>\n",
       "      <td>IPADK296</td>\n",
       "      <td>CLICC Circ Desk</td>\n",
       "      <td>CLICC iPad Pro Keyboard 296</td>\n",
       "    </tr>\n",
       "    <tr>\n",
       "      <th>2</th>\n",
       "      <td>2023-01-09</td>\n",
       "      <td>-1</td>\n",
       "      <td>NaN</td>\n",
       "      <td>2023-01-09</td>\n",
       "      <td>IPHONE60</td>\n",
       "      <td>Biomed Circ Desk</td>\n",
       "      <td>IPH-BIO-04</td>\n",
       "    </tr>\n",
       "    <tr>\n",
       "      <th>3</th>\n",
       "      <td>2023-01-09</td>\n",
       "      <td>-1</td>\n",
       "      <td>UCLA Academic</td>\n",
       "      <td>2023-01-09</td>\n",
       "      <td>HDST19</td>\n",
       "      <td>Biomed Circ Desk</td>\n",
       "      <td>HDS-BIO-02</td>\n",
       "    </tr>\n",
       "    <tr>\n",
       "      <th>4</th>\n",
       "      <td>2023-01-09</td>\n",
       "      <td>-1</td>\n",
       "      <td>UCLA Academic</td>\n",
       "      <td>2023-01-09</td>\n",
       "      <td>HDST27</td>\n",
       "      <td>Biomed Circ Desk</td>\n",
       "      <td>HDS-BIO-10</td>\n",
       "    </tr>\n",
       "  </tbody>\n",
       "</table>\n",
       "</div>"
      ],
      "text/plain": [
       "    Loan Date  Patron Id   Patron Group    Due Date   Barcode  \\\n",
       "0  2023-01-09         -1            NaN  2023-01-09     HP001   \n",
       "1  2023-01-09         -1            NaN  2023-01-09  IPADK296   \n",
       "2  2023-01-09         -1            NaN  2023-01-09  IPHONE60   \n",
       "3  2023-01-09         -1  UCLA Academic  2023-01-09    HDST19   \n",
       "4  2023-01-09         -1  UCLA Academic  2023-01-09    HDST27   \n",
       "\n",
       "     Circ Desk Name                  Description  \n",
       "0   CLICC Circ Desk                    WL-BIO-01  \n",
       "1   CLICC Circ Desk  CLICC iPad Pro Keyboard 296  \n",
       "2  Biomed Circ Desk                   IPH-BIO-04  \n",
       "3  Biomed Circ Desk                   HDS-BIO-02  \n",
       "4  Biomed Circ Desk                   HDS-BIO-10  "
      ]
     },
     "execution_count": 4,
     "metadata": {},
     "output_type": "execute_result"
    }
   ],
   "source": [
    "db = pd.read_csv('Raw_1.csv')\n",
    "db.head()"
   ]
  }
 ],
 "metadata": {
  "kernelspec": {
   "display_name": "Python 3",
   "language": "python",
   "name": "python3"
  },
  "language_info": {
   "codemirror_mode": {
    "name": "ipython",
    "version": 3
   },
   "file_extension": ".py",
   "mimetype": "text/x-python",
   "name": "python",
   "nbconvert_exporter": "python",
   "pygments_lexer": "ipython3",
   "version": "3.9.13"
  },
  "orig_nbformat": 4,
  "vscode": {
   "interpreter": {
    "hash": "3beb0556f0fad32050b56f8c689466f8d7b709db2abc9d9dd392b4d36af0d780"
   }
  }
 },
 "nbformat": 4,
 "nbformat_minor": 2
}
