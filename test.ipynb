{
 "cells": [
  {
   "cell_type": "code",
   "execution_count": 1,
   "metadata": {},
   "outputs": [],
   "source": [
    "import pandas as pd\n",
    "import numpy as np\n",
    "import matplotlib.pyplot as plt\n",
    "import seaborn as sns\n",
    "import os\n",
    "import warnings\n",
    "warnings.filterwarnings('ignore')\n",
    "%matplotlib inline"
   ]
  },
  {
   "attachments": {},
   "cell_type": "markdown",
   "metadata": {},
   "source": [
    "## Generate SQL filter"
   ]
  },
  {
   "cell_type": "code",
   "execution_count": 20,
   "metadata": {},
   "outputs": [
    {
     "name": "stdout",
     "output_type": "stream",
     "text": [
      "(\"Loan Details\".\"Loan Date\" BETWEEN date '2023-01-09' AND date '2023-03-24') AND (\"Loan Details\".\"Barcode\" LIKE 'HP%' OR \"Loan Details\".\"Barcode\" LIKE 'CBK%' OR \"Loan Details\".\"Barcode\" LIKE 'MP%' OR \"Loan Details\".\"Barcode\" LIKE 'CLICC-ML%' OR \"Loan Details\".\"Barcode\" LIKE 'CLICC-MM%' OR \"Loan Details\".\"Barcode\" LIKE 'FAC%' OR \"Loan Details\".\"Barcode\" LIKE 'IPADK%' OR \"Loan Details\".\"Barcode\" LIKE 'ANDROID%' OR \"Loan Details\".\"Barcode\" LIKE 'IPHONE%' OR \"Loan Details\".\"Barcode\" LIKE 'BOEIPHONE%' OR \"Loan Details\".\"Barcode\" LIKE 'MACCHRG%' OR \"Loan Details\".\"Barcode\" LIKE 'OLDMACCHRG%' OR \"Loan Details\".\"Barcode\" LIKE 'MACUSBC%' OR \"Loan Details\".\"Barcode\" LIKE 'HPUSBC%' OR \"Loan Details\".\"Barcode\" LIKE 'WALLADPT%' OR \"Loan Details\".\"Barcode\" LIKE 'ANKER%' OR \"Loan Details\".\"Barcode\" LIKE 'OMNI%' OR \"Loan Details\".\"Barcode\" LIKE 'VGA%' OR \"Loan Details\".\"Barcode\" LIKE 'BIOUSBCVGA%' OR \"Loan Details\".\"Barcode\" LIKE 'UVGA%' OR \"Loan Details\".\"Barcode\" LIKE 'HDMIC%' OR \"Loan Details\".\"Barcode\" LIKE 'UHDMI%' OR \"Loan Details\".\"Barcode\" LIKE 'MSE%' OR \"Loan Details\".\"Barcode\" LIKE 'LABMSE%' OR \"Loan Details\".\"Barcode\" LIKE 'HDST%' OR \"Loan Details\".\"Barcode\" LIKE 'CALC%' OR \"Loan Details\".\"Barcode\" LIKE 'SUP%' OR \"Loan Details\".\"Barcode\" LIKE 'AD%')\n"
     ]
    }
   ],
   "source": [
    "barcodes_df = pd.read_csv('barcodes.csv')\n",
    "start_date = '2023-01-09'\n",
    "end_date = '2023-03-24'\n",
    "time_filter = f\"(\\\"Loan Details\\\".\\\"Loan Date\\\" BETWEEN date '{start_date}' AND date '{end_date}')\"\n",
    "barcode_filter = f\"\\\"Loan Details\\\".\\\"Barcode\\\" LIKE '{barcodes_df['Barcode'][0]}%'\"\n",
    "for barcode in barcodes_df['Barcode'][1:]:\n",
    "    barcode_filter += f\" OR \\\"Loan Details\\\".\\\"Barcode\\\" LIKE '{barcode}%'\"\n",
    "\n",
    "barcode_filter = '(' + barcode_filter + ')'\n",
    "SQL_filter = time_filter + ' AND ' + barcode_filter\n",
    "print(SQL_filter)"
   ]
  },
  {
   "attachments": {},
   "cell_type": "markdown",
   "metadata": {},
   "source": [
    "## Import raw data"
   ]
  },
  {
   "cell_type": "code",
   "execution_count": 21,
   "metadata": {},
   "outputs": [
    {
     "data": {
      "text/html": [
       "<div>\n",
       "<style scoped>\n",
       "    .dataframe tbody tr th:only-of-type {\n",
       "        vertical-align: middle;\n",
       "    }\n",
       "\n",
       "    .dataframe tbody tr th {\n",
       "        vertical-align: top;\n",
       "    }\n",
       "\n",
       "    .dataframe thead th {\n",
       "        text-align: right;\n",
       "    }\n",
       "</style>\n",
       "<table border=\"1\" class=\"dataframe\">\n",
       "  <thead>\n",
       "    <tr style=\"text-align: right;\">\n",
       "      <th></th>\n",
       "      <th>Loan Date</th>\n",
       "      <th>Loan Time</th>\n",
       "      <th>Return Date</th>\n",
       "      <th>Return Time</th>\n",
       "      <th>Due Date</th>\n",
       "      <th>Barcode</th>\n",
       "      <th>Patron Id</th>\n",
       "      <th>Patron Group</th>\n",
       "      <th>Circ Desk Name</th>\n",
       "      <th>Item Policy</th>\n",
       "      <th>Policy Name</th>\n",
       "      <th>Description</th>\n",
       "    </tr>\n",
       "  </thead>\n",
       "  <tbody>\n",
       "    <tr>\n",
       "      <th>0</th>\n",
       "      <td>2023-01-09</td>\n",
       "      <td>08:22:07</td>\n",
       "      <td>2023-01-17</td>\n",
       "      <td>17:38:49</td>\n",
       "      <td>2023-01-16</td>\n",
       "      <td>CBK204</td>\n",
       "      <td>-1</td>\n",
       "      <td>UCLA Graduate</td>\n",
       "      <td>Biomed Circ Desk</td>\n",
       "      <td>CLICC Chromebook</td>\n",
       "      <td>1 Week</td>\n",
       "      <td>CBK-BIO-15</td>\n",
       "    </tr>\n",
       "    <tr>\n",
       "      <th>1</th>\n",
       "      <td>2023-01-09</td>\n",
       "      <td>08:37:48</td>\n",
       "      <td>2023-01-11</td>\n",
       "      <td>11:02:19</td>\n",
       "      <td>2023-01-16</td>\n",
       "      <td>MP133</td>\n",
       "      <td>-1</td>\n",
       "      <td>UCLA Undergrad</td>\n",
       "      <td>CLICC Circ Desk</td>\n",
       "      <td>CLICC Chromebook</td>\n",
       "      <td>1 Week</td>\n",
       "      <td>ML-PC1-09</td>\n",
       "    </tr>\n",
       "    <tr>\n",
       "      <th>2</th>\n",
       "      <td>2023-01-09</td>\n",
       "      <td>08:39:34</td>\n",
       "      <td>2023-01-09</td>\n",
       "      <td>09:31:51</td>\n",
       "      <td>2023-01-16</td>\n",
       "      <td>HP040</td>\n",
       "      <td>-1</td>\n",
       "      <td>UCLA Undergrad</td>\n",
       "      <td>CLICC Circ Desk</td>\n",
       "      <td>CLICC Chromebook</td>\n",
       "      <td>1 Week</td>\n",
       "      <td>WL-SEL-05</td>\n",
       "    </tr>\n",
       "    <tr>\n",
       "      <th>3</th>\n",
       "      <td>2023-01-09</td>\n",
       "      <td>08:41:25</td>\n",
       "      <td>2023-01-12</td>\n",
       "      <td>12:14:58</td>\n",
       "      <td>2023-01-16</td>\n",
       "      <td>CLICC-ML-0022</td>\n",
       "      <td>-1</td>\n",
       "      <td>UCLA Undergrad</td>\n",
       "      <td>CLICC Circ Desk</td>\n",
       "      <td>CLICC Chromebook</td>\n",
       "      <td>1 Week</td>\n",
       "      <td>ITS MacBook 39</td>\n",
       "    </tr>\n",
       "    <tr>\n",
       "      <th>4</th>\n",
       "      <td>2023-01-09</td>\n",
       "      <td>08:46:35</td>\n",
       "      <td>2023-01-18</td>\n",
       "      <td>11:13:01</td>\n",
       "      <td>2023-01-20</td>\n",
       "      <td>MP055</td>\n",
       "      <td>-1</td>\n",
       "      <td>UCLA Undergrad</td>\n",
       "      <td>CLICC Circ Desk</td>\n",
       "      <td>CLICC Chromebook</td>\n",
       "      <td>1 Week</td>\n",
       "      <td>ML-YRL-14</td>\n",
       "    </tr>\n",
       "  </tbody>\n",
       "</table>\n",
       "</div>"
      ],
      "text/plain": [
       "    Loan Date Loan Time Return Date Return Time    Due Date        Barcode  \\\n",
       "0  2023-01-09  08:22:07  2023-01-17    17:38:49  2023-01-16         CBK204   \n",
       "1  2023-01-09  08:37:48  2023-01-11    11:02:19  2023-01-16          MP133   \n",
       "2  2023-01-09  08:39:34  2023-01-09    09:31:51  2023-01-16          HP040   \n",
       "3  2023-01-09  08:41:25  2023-01-12    12:14:58  2023-01-16  CLICC-ML-0022   \n",
       "4  2023-01-09  08:46:35  2023-01-18    11:13:01  2023-01-20          MP055   \n",
       "\n",
       "   Patron Id    Patron Group    Circ Desk Name       Item Policy Policy Name  \\\n",
       "0         -1   UCLA Graduate  Biomed Circ Desk  CLICC Chromebook      1 Week   \n",
       "1         -1  UCLA Undergrad   CLICC Circ Desk  CLICC Chromebook      1 Week   \n",
       "2         -1  UCLA Undergrad   CLICC Circ Desk  CLICC Chromebook      1 Week   \n",
       "3         -1  UCLA Undergrad   CLICC Circ Desk  CLICC Chromebook      1 Week   \n",
       "4         -1  UCLA Undergrad   CLICC Circ Desk  CLICC Chromebook      1 Week   \n",
       "\n",
       "      Description  \n",
       "0      CBK-BIO-15  \n",
       "1       ML-PC1-09  \n",
       "2       WL-SEL-05  \n",
       "3  ITS MacBook 39  \n",
       "4       ML-YRL-14  "
      ]
     },
     "execution_count": 21,
     "metadata": {},
     "output_type": "execute_result"
    }
   ],
   "source": [
    "db = pd.read_csv('raw_norenew_230402.csv')\n",
    "db.head()"
   ]
  }
 ],
 "metadata": {
  "kernelspec": {
   "display_name": "Python 3",
   "language": "python",
   "name": "python3"
  },
  "language_info": {
   "codemirror_mode": {
    "name": "ipython",
    "version": 3
   },
   "file_extension": ".py",
   "mimetype": "text/x-python",
   "name": "python",
   "nbconvert_exporter": "python",
   "pygments_lexer": "ipython3",
   "version": "3.9.13"
  },
  "orig_nbformat": 4,
  "vscode": {
   "interpreter": {
    "hash": "3beb0556f0fad32050b56f8c689466f8d7b709db2abc9d9dd392b4d36af0d780"
   }
  }
 },
 "nbformat": 4,
 "nbformat_minor": 2
}
