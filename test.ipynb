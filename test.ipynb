{
 "cells": [
  {
   "cell_type": "code",
   "execution_count": 22,
   "metadata": {},
   "outputs": [],
   "source": [
    "import pandas as pd\n",
    "import numpy as np\n",
    "import matplotlib.pyplot as plt\n",
    "import seaborn as sns\n",
    "from datetime import datetime\n",
    "\n",
    "import os\n",
    "import warnings\n",
    "warnings.filterwarnings('ignore')\n",
    "%matplotlib inline"
   ]
  },
  {
   "attachments": {},
   "cell_type": "markdown",
   "metadata": {},
   "source": [
    "## Generate SQL filter"
   ]
  },
  {
   "cell_type": "code",
   "execution_count": 20,
   "metadata": {},
   "outputs": [
    {
     "name": "stdout",
     "output_type": "stream",
     "text": [
      "(\"Loan Details\".\"Loan Date\" BETWEEN date '2023-01-09' AND date '2023-03-24') AND (\"Loan Details\".\"Barcode\" LIKE 'HP%' OR \"Loan Details\".\"Barcode\" LIKE 'CBK%' OR \"Loan Details\".\"Barcode\" LIKE 'MP%' OR \"Loan Details\".\"Barcode\" LIKE 'CLICC-ML%' OR \"Loan Details\".\"Barcode\" LIKE 'CLICC-MM%' OR \"Loan Details\".\"Barcode\" LIKE 'FAC%' OR \"Loan Details\".\"Barcode\" LIKE 'IPADK%' OR \"Loan Details\".\"Barcode\" LIKE 'ANDROID%' OR \"Loan Details\".\"Barcode\" LIKE 'IPHONE%' OR \"Loan Details\".\"Barcode\" LIKE 'BOEIPHONE%' OR \"Loan Details\".\"Barcode\" LIKE 'MACCHRG%' OR \"Loan Details\".\"Barcode\" LIKE 'OLDMACCHRG%' OR \"Loan Details\".\"Barcode\" LIKE 'MACUSBC%' OR \"Loan Details\".\"Barcode\" LIKE 'HPUSBC%' OR \"Loan Details\".\"Barcode\" LIKE 'WALLADPT%' OR \"Loan Details\".\"Barcode\" LIKE 'ANKER%' OR \"Loan Details\".\"Barcode\" LIKE 'OMNI%' OR \"Loan Details\".\"Barcode\" LIKE 'VGA%' OR \"Loan Details\".\"Barcode\" LIKE 'BIOUSBCVGA%' OR \"Loan Details\".\"Barcode\" LIKE 'UVGA%' OR \"Loan Details\".\"Barcode\" LIKE 'HDMIC%' OR \"Loan Details\".\"Barcode\" LIKE 'UHDMI%' OR \"Loan Details\".\"Barcode\" LIKE 'MSE%' OR \"Loan Details\".\"Barcode\" LIKE 'LABMSE%' OR \"Loan Details\".\"Barcode\" LIKE 'HDST%' OR \"Loan Details\".\"Barcode\" LIKE 'CALC%' OR \"Loan Details\".\"Barcode\" LIKE 'SUP%' OR \"Loan Details\".\"Barcode\" LIKE 'AD%')\n"
     ]
    }
   ],
   "source": [
    "barcodes_df = pd.read_csv('barcodes.csv')\n",
    "start_date = '2023-01-09'\n",
    "end_date = '2023-03-24'\n",
    "time_filter = f\"(\\\"Loan Details\\\".\\\"Loan Date\\\" BETWEEN date '{start_date}' AND date '{end_date}')\"\n",
    "barcode_filter = f\"\\\"Loan Details\\\".\\\"Barcode\\\" LIKE '{barcodes_df['Barcode'][0]}%'\"\n",
    "for barcode in barcodes_df['Barcode'][1:]:\n",
    "    barcode_filter += f\" OR \\\"Loan Details\\\".\\\"Barcode\\\" LIKE '{barcode}%'\"\n",
    "\n",
    "barcode_filter = '(' + barcode_filter + ')'\n",
    "SQL_filter = time_filter + ' AND ' + barcode_filter\n",
    "print(SQL_filter)"
   ]
  },
  {
   "attachments": {},
   "cell_type": "markdown",
   "metadata": {},
   "source": [
    "## Import raw data"
   ]
  },
  {
   "cell_type": "code",
   "execution_count": 45,
   "metadata": {},
   "outputs": [],
   "source": [
    "# Check the dataframe at anytime with raw_df.head()\n",
    "\n",
    "# Convert the date and time columns to datetime objects\n",
    "raw_df = pd.read_csv('raw_norenew_230402.csv')\n",
    "raw_df['Loan Datetime'] = [datetime.strptime(date_str + ' ' + time_str, '%Y-%m-%d %H:%M:%S') for date_str, time_str in zip(raw_df['Loan Date'], raw_df['Loan Time'])]\n",
    "raw_df['Return Datetime'] = [np.nan if pd.isnull(date_str) else datetime.strptime(date_str + ' ' + time_str, '%Y-%m-%d %H:%M:%S') for date_str, time_str in zip(raw_df['Return Date'], raw_df['Return Time'])]\n",
    "raw_df = raw_df.drop(['Loan Date', 'Loan Time', 'Return Date', 'Return Time'], axis=1)"
   ]
  },
  {
   "cell_type": "code",
   "execution_count": 46,
   "metadata": {},
   "outputs": [
    {
     "name": "stdout",
     "output_type": "stream",
     "text": [
      "['UCLA Graduate' 'UCLA Undergrad' 'UCLA Music Grad' 'UCLA Music Undergrad'\n",
      " 'UCLA Staff' 'UCLA Academic' 'UCLA Mgmt PhD' 'External 10 - UCLA Alumni'\n",
      " 'UCLA Law Academic' 'NETWORK' 'UCLA Law Grad' 'Extension'\n",
      " 'UCLA Grad NoLimit' 'Access Only' 'External 10']\n"
     ]
    }
   ],
   "source": [
    "# Add general patron group column\n",
    "print(raw_df['Patron Group'].unique())\n",
    "patrons_df = pd.read_csv('patrons.csv')\n",
    "patrons_dict = {group: general for group, general in zip(patrons_df['Patron Group'], patrons_df['General Patron Group'])}\n",
    "raw_df['General Patron Group'] = [patrons_dict[group] for group in raw_df['Patron Group']]"
   ]
  }
 ],
 "metadata": {
  "kernelspec": {
   "display_name": "Python 3",
   "language": "python",
   "name": "python3"
  },
  "language_info": {
   "codemirror_mode": {
    "name": "ipython",
    "version": 3
   },
   "file_extension": ".py",
   "mimetype": "text/x-python",
   "name": "python",
   "nbconvert_exporter": "python",
   "pygments_lexer": "ipython3",
   "version": "3.9.13"
  },
  "orig_nbformat": 4,
  "vscode": {
   "interpreter": {
    "hash": "3beb0556f0fad32050b56f8c689466f8d7b709db2abc9d9dd392b4d36af0d780"
   }
  }
 },
 "nbformat": 4,
 "nbformat_minor": 2
}
