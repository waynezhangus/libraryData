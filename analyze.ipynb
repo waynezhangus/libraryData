{
 "cells": [
  {
   "cell_type": "code",
   "execution_count": 67,
   "metadata": {},
   "outputs": [],
   "source": [
    "import pandas as pd\n",
    "import numpy as np\n",
    "import matplotlib.pyplot as plt\n",
    "import seaborn as sns\n",
    "from datetime import datetime\n",
    "import re\n",
    "\n",
    "import os\n",
    "import warnings\n",
    "warnings.filterwarnings('ignore')\n",
    "%matplotlib inline"
   ]
  },
  {
   "attachments": {},
   "cell_type": "markdown",
   "metadata": {},
   "source": [
    "## Generate SQL filter"
   ]
  },
  {
   "cell_type": "code",
   "execution_count": 68,
   "metadata": {},
   "outputs": [
    {
     "name": "stdout",
     "output_type": "stream",
     "text": [
      "(\"Loan Details\".\"Loan Date\" BETWEEN date '2023-01-09' AND date '2023-03-24') AND (\"Loan Details\".\"Barcode\" LIKE 'HP%' OR \"Loan Details\".\"Barcode\" LIKE 'CBK%' OR \"Loan Details\".\"Barcode\" LIKE 'MP%' OR \"Loan Details\".\"Barcode\" LIKE 'CLICC-ML%' OR \"Loan Details\".\"Barcode\" LIKE 'CLICC-MM%' OR \"Loan Details\".\"Barcode\" LIKE 'FAC%' OR \"Loan Details\".\"Barcode\" LIKE 'IPADK%' OR \"Loan Details\".\"Barcode\" LIKE 'ANDROID%' OR \"Loan Details\".\"Barcode\" LIKE 'IPHONE%' OR \"Loan Details\".\"Barcode\" LIKE 'BOEIPHONE%' OR \"Loan Details\".\"Barcode\" LIKE 'MACCHRG%' OR \"Loan Details\".\"Barcode\" LIKE 'OLDMACCHRG%' OR \"Loan Details\".\"Barcode\" LIKE 'MACUSBC%' OR \"Loan Details\".\"Barcode\" LIKE 'HPUSBC%' OR \"Loan Details\".\"Barcode\" LIKE 'WALLADPT%' OR \"Loan Details\".\"Barcode\" LIKE 'ANKER%' OR \"Loan Details\".\"Barcode\" LIKE 'OMNI%' OR \"Loan Details\".\"Barcode\" LIKE 'VGA%' OR \"Loan Details\".\"Barcode\" LIKE 'BIOUSBCVGA%' OR \"Loan Details\".\"Barcode\" LIKE 'UVGA%' OR \"Loan Details\".\"Barcode\" LIKE 'HDMIC%' OR \"Loan Details\".\"Barcode\" LIKE 'UHDMI%' OR \"Loan Details\".\"Barcode\" LIKE 'MSE%' OR \"Loan Details\".\"Barcode\" LIKE 'LABMSE%' OR \"Loan Details\".\"Barcode\" LIKE 'HDST%' OR \"Loan Details\".\"Barcode\" LIKE 'CALC%' OR \"Loan Details\".\"Barcode\" LIKE 'SUP%' OR \"Loan Details\".\"Barcode\" LIKE 'AD%')\n"
     ]
    }
   ],
   "source": [
    "barcodes_df = pd.read_csv('barcodes.csv')\n",
    "start_date = '2023-01-09'\n",
    "end_date = '2023-03-24'\n",
    "time_filter = f\"(\\\"Loan Details\\\".\\\"Loan Date\\\" BETWEEN date '{start_date}' AND date '{end_date}')\"\n",
    "barcode_filter = f\"\\\"Loan Details\\\".\\\"Barcode\\\" LIKE '{barcodes_df['Barcode'][0]}%'\"\n",
    "for barcode in barcodes_df['Barcode'][1:]:\n",
    "    barcode_filter += f\" OR \\\"Loan Details\\\".\\\"Barcode\\\" LIKE '{barcode}%'\"\n",
    "\n",
    "barcode_filter = '(' + barcode_filter + ')'\n",
    "SQL_filter = time_filter + ' AND ' + barcode_filter\n",
    "print(SQL_filter)"
   ]
  },
  {
   "attachments": {},
   "cell_type": "markdown",
   "metadata": {},
   "source": [
    "## Transform raw data"
   ]
  },
  {
   "cell_type": "code",
   "execution_count": 69,
   "metadata": {},
   "outputs": [],
   "source": [
    "# Convert the date and time columns to datetime objects\n",
    "raw_df = pd.read_csv('raw_norenew_230402.csv')\n",
    "raw_df['Loan Datetime'] = [datetime.strptime(date_str + ' ' + time_str, '%Y-%m-%d %H:%M:%S') for date_str, time_str in zip(raw_df['Loan Date'], raw_df['Loan Time'])]\n",
    "raw_df['Return Datetime'] = [np.nan if pd.isnull(date_str) else datetime.strptime(date_str + ' ' + time_str, '%Y-%m-%d %H:%M:%S') for date_str, time_str in zip(raw_df['Return Date'], raw_df['Return Time'])]\n",
    "raw_df = raw_df.drop(['Loan Date', 'Loan Time', 'Return Date', 'Return Time'], axis=1)"
   ]
  },
  {
   "cell_type": "code",
   "execution_count": 70,
   "metadata": {},
   "outputs": [],
   "source": [
    "# Add loan duration column\n",
    "raw_df['Loan Duration'] = raw_df['Return Datetime'] - raw_df['Loan Datetime']"
   ]
  },
  {
   "cell_type": "code",
   "execution_count": 71,
   "metadata": {},
   "outputs": [
    {
     "name": "stdout",
     "output_type": "stream",
     "text": [
      "['UCLA Graduate' 'UCLA Undergrad' 'UCLA Music Grad' 'UCLA Music Undergrad'\n",
      " 'UCLA Staff' 'UCLA Academic' 'UCLA Mgmt PhD' 'External 10 - UCLA Alumni'\n",
      " 'UCLA Law Academic' 'NETWORK' 'UCLA Law Grad' 'Extension'\n",
      " 'UCLA Grad NoLimit' 'Access Only' 'External 10']\n"
     ]
    }
   ],
   "source": [
    "# Add general patron group column\n",
    "print(raw_df['Patron Group'].unique()) # Check if the unique values correspond to the patron groups in the patrons.csv file\n",
    "patrons_df = pd.read_csv('patrons.csv')\n",
    "patrons_dict = {group: general for group, general in zip(patrons_df['Patron Group'], patrons_df['General Patron Group'])}\n",
    "raw_df['General Patron Group'] = [patrons_dict[group] for group in raw_df['Patron Group']]"
   ]
  },
  {
   "cell_type": "code",
   "execution_count": 72,
   "metadata": {},
   "outputs": [
    {
     "name": "stdout",
     "output_type": "stream",
     "text": [
      "{'BIOUSBCVGA', 'MACUSBC19C', 'CBK-', 'MACUSBC13C', 'UHDMI', 'ANKER', 'MP-', 'MACUSBC29C', 'HDST', 'BOEIPHONE', 'MACUSBC06C', 'MACUSBC07C', 'ANDROID', 'UVGA', 'IPADK', 'MP', 'HDMIC', 'FAC', 'SUP-', 'AD', 'MACUSBC25C', 'OMNI', 'MACUSBC27C', 'MACUSBC23C', 'MSE', 'MACUSBC05C', 'MACUSBC09C', 'MACCHRG', 'CLICC-MM-', 'HP', 'HPUSBC', 'MACUSBC17C', 'CBK', 'MP092C', 'MACUSBC16C', 'MACUSBC12C', 'SUP', 'HP076C', 'VGAC', 'VGA', 'IPHONE', 'CLICC-ML-', 'MACUSBC', 'MACUSBC24C', 'CALC', 'LABMSE', 'HP-', 'MACUSBC08C', 'OLDMACCHRG', 'MACUSBC20C', 'WALLADPT'}\n"
     ]
    }
   ],
   "source": [
    "# Add item type, general item type and item policy columns\n",
    "\n",
    "barcode_prefixes = [re.sub(r'\\d+$', '', s) for s in raw_df['Barcode']]\n",
    "print(set(barcode_prefixes)) # Check if the prefixes correspond to the prefixes in the barcodes.csv file\n",
    "item_types = []\n",
    "general_item_types = []\n",
    "item_policies = []\n",
    "for barcode in raw_df['Barcode']:\n",
    "    for i, bc in enumerate(barcodes_df['Barcode']):\n",
    "        if barcode.startswith(bc):\n",
    "            item_types.append(barcodes_df['Item Type'][i])\n",
    "            general_item_types.append(barcodes_df['General Item Type'][i])\n",
    "            item_policies.append(barcodes_df['Item Policy'][i])\n",
    "            break\n",
    "raw_df['Item Type'] = item_types\n",
    "raw_df['General Item Type'] = general_item_types\n",
    "raw_df['Item Policy'] = item_policies\n",
    "raw_df = raw_df.drop(['Policy Name', 'Description'], axis=1)"
   ]
  },
  {
   "cell_type": "code",
   "execution_count": 75,
   "metadata": {},
   "outputs": [],
   "source": [
    "# Uncomment the following line to check transformation results\n",
    "# raw_df.head()\n",
    "# raw_df.to_csv('raw_df.csv', index=False)"
   ]
  },
  {
   "attachments": {},
   "cell_type": "markdown",
   "metadata": {},
   "source": [
    "## Calculations"
   ]
  },
  {
   "attachments": {},
   "cell_type": "markdown",
   "metadata": {},
   "source": [
    "1. Of all CLICC transactions listed in Alma for fall quarter, what % were the \"chromebook\" type (1-2 weeks) and what % were the \"small item\" type (6 hours)"
   ]
  },
  {
   "cell_type": "code",
   "execution_count": 63,
   "metadata": {},
   "outputs": [
    {
     "name": "stdout",
     "output_type": "stream",
     "text": [
      "7084 0.40245623941276115 0.5755223037831734\n"
     ]
    }
   ],
   "source": [
    "total_loans = raw_df.shape[0]\n",
    "num_7d = raw_df[raw_df['Item Policy'] == '7d'].shape[0]\n",
    "per_7d = num_7d / total_loans\n",
    "num_6h = raw_df[raw_df['Item Policy'] == '6h'].shape[0]\n",
    "per_6h = num_6h / total_loans\n",
    "print(total_loans, per_7d, per_6h)"
   ]
  },
  {
   "attachments": {},
   "cell_type": "markdown",
   "metadata": {},
   "source": [
    "2. Of all the small item type loans (6 hours) what was the average loan length for patrons - % breakdown could also be shown, ie 24% < 2 hours, 35% between 2 - 4 hours, the rest >6 hours"
   ]
  },
  {
   "cell_type": "code",
   "execution_count": 87,
   "metadata": {},
   "outputs": [],
   "source": [
    "small_df = raw_df[raw_df['Item Policy'] == '6h']\n",
    "small_df_returned = small_df[small_df['Loan Duration'].notnull()]"
   ]
  },
  {
   "cell_type": "code",
   "execution_count": 131,
   "metadata": {},
   "outputs": [
    {
     "data": {
      "image/png": "[encoded data removed]",
      "text/plain": [
       "<Figure size 1000x500 with 1 Axes>"
      ]
     },
     "metadata": {},
     "output_type": "display_data"
    }
   ],
   "source": [
    "total_seconds = small_df_returned['Loan Duration'].dt.total_seconds().astype(int)\n",
    "bins = [*range(0, 3600*13, 3600), total_seconds.max()]\n",
    "bin_counts = pd.cut(total_seconds, list(bins)).value_counts(sort=False)\n",
    "bin_percents = bin_counts / total_seconds.shape[0]\n",
    "bins = [str(i) for i in range(1, 13)]\n",
    "bins.append('12+')\n",
    "\n",
    "# Plot the histogram\n",
    "plt.figure(figsize=(10, 5))\n",
    "plt.bar(bins, bin_percents)\n",
    "plt.xlabel('Loan Duration (hours)')\n",
    "plt.ylabel('Percentage of Loans')\n",
    "plt.title('Small Item Loan Duration')\n",
    "plt.show()"
   ]
  }
 ],
 "metadata": {
  "kernelspec": {
   "display_name": "Python 3",
   "language": "python",
   "name": "python3"
  },
  "language_info": {
   "codemirror_mode": {
    "name": "ipython",
    "version": 3
   },
   "file_extension": ".py",
   "mimetype": "text/x-python",
   "name": "python",
   "nbconvert_exporter": "python",
   "pygments_lexer": "ipython3",
   "version": "3.9.13"
  },
  "orig_nbformat": 4,
  "vscode": {
   "interpreter": {
    "hash": "3beb0556f0fad32050b56f8c689466f8d7b709db2abc9d9dd392b4d36af0d780"
   }
  }
 },
 "nbformat": 4,
 "nbformat_minor": 2
}
