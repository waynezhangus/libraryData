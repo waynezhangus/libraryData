{
 "cells": [
  {
   "cell_type": "code",
   "execution_count": 54,
   "metadata": {},
   "outputs": [],
   "source": [
    "import pandas as pd\n",
    "import numpy as np\n",
    "import matplotlib.pyplot as plt\n",
    "import seaborn as sns\n",
    "from datetime import datetime\n",
    "import re\n",
    "\n",
    "import os\n",
    "import warnings\n",
    "warnings.filterwarnings('ignore')\n",
    "%matplotlib inline"
   ]
  },
  {
   "attachments": {},
   "cell_type": "markdown",
   "metadata": {},
   "source": [
    "## Generate SQL filter"
   ]
  },
  {
   "cell_type": "code",
   "execution_count": 55,
   "metadata": {},
   "outputs": [
    {
     "name": "stdout",
     "output_type": "stream",
     "text": [
      "(\"Loan Details\".\"Loan Date\" BETWEEN date '2023-01-09' AND date '2023-03-24') AND (\"Loan Details\".\"Barcode\" LIKE 'HP%' OR \"Loan Details\".\"Barcode\" LIKE 'CBK%' OR \"Loan Details\".\"Barcode\" LIKE 'MP%' OR \"Loan Details\".\"Barcode\" LIKE 'CLICC-ML%' OR \"Loan Details\".\"Barcode\" LIKE 'CLICC-MM%' OR \"Loan Details\".\"Barcode\" LIKE 'FAC%' OR \"Loan Details\".\"Barcode\" LIKE 'IPADK%' OR \"Loan Details\".\"Barcode\" LIKE 'ANDROID%' OR \"Loan Details\".\"Barcode\" LIKE 'IPHONE%' OR \"Loan Details\".\"Barcode\" LIKE 'BOEIPHONE%' OR \"Loan Details\".\"Barcode\" LIKE 'MACCHRG%' OR \"Loan Details\".\"Barcode\" LIKE 'OLDMACCHRG%' OR \"Loan Details\".\"Barcode\" LIKE 'MACUSBC%' OR \"Loan Details\".\"Barcode\" LIKE 'HPUSBC%' OR \"Loan Details\".\"Barcode\" LIKE 'WALLADPT%' OR \"Loan Details\".\"Barcode\" LIKE 'ANKER%' OR \"Loan Details\".\"Barcode\" LIKE 'OMNI%' OR \"Loan Details\".\"Barcode\" LIKE 'VGA%' OR \"Loan Details\".\"Barcode\" LIKE 'BIOUSBCVGA%' OR \"Loan Details\".\"Barcode\" LIKE 'UVGA%' OR \"Loan Details\".\"Barcode\" LIKE 'HDMIC%' OR \"Loan Details\".\"Barcode\" LIKE 'UHDMI%' OR \"Loan Details\".\"Barcode\" LIKE 'MSE%' OR \"Loan Details\".\"Barcode\" LIKE 'LABMSE%' OR \"Loan Details\".\"Barcode\" LIKE 'HDST%' OR \"Loan Details\".\"Barcode\" LIKE 'CALC%' OR \"Loan Details\".\"Barcode\" LIKE 'SUP%' OR \"Loan Details\".\"Barcode\" LIKE 'AD%')\n"
     ]
    }
   ],
   "source": [
    "barcodes_df = pd.read_csv('barcodes.csv')\n",
    "start_date = '2023-01-09'\n",
    "end_date = '2023-03-24'\n",
    "time_filter = f\"(\\\"Loan Details\\\".\\\"Loan Date\\\" BETWEEN date '{start_date}' AND date '{end_date}')\"\n",
    "barcode_filter = f\"\\\"Loan Details\\\".\\\"Barcode\\\" LIKE '{barcodes_df['Barcode'][0]}%'\"\n",
    "for barcode in barcodes_df['Barcode'][1:]:\n",
    "    barcode_filter += f\" OR \\\"Loan Details\\\".\\\"Barcode\\\" LIKE '{barcode}%'\"\n",
    "\n",
    "barcode_filter = '(' + barcode_filter + ')'\n",
    "SQL_filter = time_filter + ' AND ' + barcode_filter\n",
    "print(SQL_filter)"
   ]
  },
  {
   "attachments": {},
   "cell_type": "markdown",
   "metadata": {},
   "source": [
    "## Transform raw data"
   ]
  },
  {
   "cell_type": "code",
   "execution_count": 56,
   "metadata": {},
   "outputs": [],
   "source": [
    "# Convert the date and time columns to datetime objects\n",
    "raw_df = pd.read_csv('raw_w23_renew.csv')\n",
    "raw_df['Loan Datetime'] = [datetime.strptime(date_str + ' ' + time_str, '%Y-%m-%d %H:%M:%S') for date_str, time_str in zip(raw_df['Loan Date'], raw_df['Loan Time'])]\n",
    "raw_df['Return Datetime'] = [np.nan if pd.isnull(date_str) else datetime.strptime(date_str + ' ' + time_str, '%Y-%m-%d %H:%M:%S') for date_str, time_str in zip(raw_df['Return Date'], raw_df['Return Time'])]\n",
    "raw_df = raw_df.drop(['Loan Date', 'Loan Time', 'Return Date', 'Return Time'], axis=1)"
   ]
  },
  {
   "cell_type": "code",
   "execution_count": 57,
   "metadata": {},
   "outputs": [],
   "source": [
    "# Add loan duration column\n",
    "raw_df['Loan Duration'] = raw_df['Return Datetime'] - raw_df['Loan Datetime']"
   ]
  },
  {
   "cell_type": "code",
   "execution_count": 58,
   "metadata": {},
   "outputs": [
    {
     "name": "stdout",
     "output_type": "stream",
     "text": [
      "['UCLA Graduate' 'UCLA Undergrad' 'UCLA Music Grad' 'UCLA Music Undergrad'\n",
      " 'UCLA Staff' 'UCLA Academic' 'UCLA Mgmt PhD' 'External 10 - UCLA Alumni'\n",
      " 'UCLA Law Academic' 'NETWORK' 'UCLA Law Grad' 'Extension'\n",
      " 'UCLA Grad NoLimit' 'Access Only' 'External 10']\n"
     ]
    }
   ],
   "source": [
    "# Add general patron group column\n",
    "print(raw_df['Patron Group'].unique()) # Check if the unique values correspond to the patron groups in the patrons.csv file\n",
    "patrons_df = pd.read_csv('patrons.csv')\n",
    "patrons_dict = {group: general for group, general in zip(patrons_df['Patron Group'], patrons_df['General Patron Group'])}\n",
    "raw_df['General Patron Group'] = [patrons_dict[group] for group in raw_df['Patron Group']]\n",
    "\n",
    "# Combine Encrypted and Unencrypted patron ids\n",
    "raw_df['User ID Encryption'] = [id if pd.isnull(encrypted_id) else encrypted_id for id, encrypted_id in zip(raw_df['Patron Id'], raw_df['User ID Encryption'])]\n",
    "raw_df = raw_df.drop(['Patron Id'], axis=1)"
   ]
  },
  {
   "cell_type": "code",
   "execution_count": 59,
   "metadata": {},
   "outputs": [
    {
     "name": "stdout",
     "output_type": "stream",
     "text": [
      "{'HP', 'ANKER', 'MACUSBC17C', 'FAC', 'BIOUSBCVGA', 'UHDMI', 'MACUSBC06C', 'IPHONE', 'MSE', 'SUP-', 'BOEIPHONE', 'HP-', 'MACUSBC05C', 'MACUSBC', 'MACUSBC12C', 'SUP', 'MP092C', 'MACUSBC29C', 'CLICC-MM-', 'MACUSBC25C', 'WALLADPT', 'VGA', 'CLICC-ML-', 'HDST', 'VGAC', 'OMNI', 'MACUSBC09C', 'MACUSBC08C', 'MACUSBC13C', 'MP-', 'MACUSBC27C', 'HP076C', 'CBK-', 'ANDROID', 'MACCHRG', 'HPUSBC', 'MACUSBC19C', 'CBK', 'OLDMACCHRG', 'MACUSBC24C', 'MACUSBC16C', 'MACUSBC07C', 'MP', 'AD', 'CALC', 'MACUSBC20C', 'UVGA', 'IPADK', 'HDMIC', 'LABMSE', 'MACUSBC23C'}\n"
     ]
    }
   ],
   "source": [
    "# Add item type, general item type and item policy columns\n",
    "\n",
    "barcode_prefixes = [re.sub(r'\\d+$', '', s) for s in raw_df['Barcode']]\n",
    "print(set(barcode_prefixes)) # Check if the prefixes correspond to the prefixes in the barcodes.csv file\n",
    "item_types = []\n",
    "general_item_types = []\n",
    "item_policies = []\n",
    "for barcode in raw_df['Barcode']:\n",
    "    for i, bc in enumerate(barcodes_df['Barcode']):\n",
    "        if barcode.startswith(bc):\n",
    "            item_types.append(barcodes_df['Item Type'][i])\n",
    "            general_item_types.append(barcodes_df['General Item Type'][i])\n",
    "            item_policies.append(barcodes_df['Item Policy'][i])\n",
    "            break\n",
    "raw_df['Item Type'] = item_types\n",
    "raw_df['General Item Type'] = general_item_types\n",
    "raw_df['Item Policy'] = item_policies\n",
    "\n",
    "raw_df = raw_df.drop(['Policy Name', 'Description'], axis=1)"
   ]
  },
  {
   "cell_type": "code",
   "execution_count": 60,
   "metadata": {},
   "outputs": [],
   "source": [
    "# seperating renewal and non-renewal loans\n",
    "renewal_df = raw_df[raw_df['Renewal Date'].notnull()]\n",
    "raw_df = raw_df[raw_df['Renewal Date'].isnull()]"
   ]
  },
  {
   "cell_type": "code",
   "execution_count": 61,
   "metadata": {},
   "outputs": [
    {
     "data": {
      "text/html": [
       "<div>\n",
       "<style scoped>\n",
       "    .dataframe tbody tr th:only-of-type {\n",
       "        vertical-align: middle;\n",
       "    }\n",
       "\n",
       "    .dataframe tbody tr th {\n",
       "        vertical-align: top;\n",
       "    }\n",
       "\n",
       "    .dataframe thead th {\n",
       "        text-align: right;\n",
       "    }\n",
       "</style>\n",
       "<table border=\"1\" class=\"dataframe\">\n",
       "  <thead>\n",
       "    <tr style=\"text-align: right;\">\n",
       "      <th></th>\n",
       "      <th>Barcode</th>\n",
       "      <th>User ID Encryption</th>\n",
       "      <th>Patron Group</th>\n",
       "      <th>Due Date</th>\n",
       "      <th>Renewal Date</th>\n",
       "      <th>Item Policy</th>\n",
       "      <th>Library Name</th>\n",
       "      <th>Loan Datetime</th>\n",
       "      <th>Return Datetime</th>\n",
       "      <th>Loan Duration</th>\n",
       "      <th>General Patron Group</th>\n",
       "      <th>Item Type</th>\n",
       "      <th>General Item Type</th>\n",
       "    </tr>\n",
       "  </thead>\n",
       "  <tbody>\n",
       "    <tr>\n",
       "      <th>0</th>\n",
       "      <td>CBK204</td>\n",
       "      <td>CF4D6FB2CF4B8E4343F21A859E07528E8F94BCC8</td>\n",
       "      <td>UCLA Graduate</td>\n",
       "      <td>2023-01-16</td>\n",
       "      <td>NaN</td>\n",
       "      <td>7d</td>\n",
       "      <td>Biomed Library</td>\n",
       "      <td>2023-01-09 08:22:07</td>\n",
       "      <td>2023-01-17 17:38:49</td>\n",
       "      <td>8 days 09:16:42</td>\n",
       "      <td>Graduate</td>\n",
       "      <td>ChromeBook</td>\n",
       "      <td>Device</td>\n",
       "    </tr>\n",
       "    <tr>\n",
       "      <th>1</th>\n",
       "      <td>MP133</td>\n",
       "      <td>A63F80FF85A3C5D780EF0F0EA2C098B9B2C0B49D</td>\n",
       "      <td>UCLA Undergrad</td>\n",
       "      <td>2023-01-16</td>\n",
       "      <td>NaN</td>\n",
       "      <td>7d</td>\n",
       "      <td>Campus Library Instructional Computing Commons</td>\n",
       "      <td>2023-01-09 08:37:48</td>\n",
       "      <td>2023-01-11 11:02:19</td>\n",
       "      <td>2 days 02:24:31</td>\n",
       "      <td>Undergraduate</td>\n",
       "      <td>MacBook</td>\n",
       "      <td>Device</td>\n",
       "    </tr>\n",
       "    <tr>\n",
       "      <th>2</th>\n",
       "      <td>HP040</td>\n",
       "      <td>B3CC169CC62E132440FEB1720E378A1252283042</td>\n",
       "      <td>UCLA Undergrad</td>\n",
       "      <td>2023-01-16</td>\n",
       "      <td>NaN</td>\n",
       "      <td>7d</td>\n",
       "      <td>Campus Library Instructional Computing Commons</td>\n",
       "      <td>2023-01-09 08:39:34</td>\n",
       "      <td>2023-01-09 09:31:51</td>\n",
       "      <td>0 days 00:52:17</td>\n",
       "      <td>Undergraduate</td>\n",
       "      <td>HP Laptop</td>\n",
       "      <td>Device</td>\n",
       "    </tr>\n",
       "    <tr>\n",
       "      <th>3</th>\n",
       "      <td>CLICC-ML-0022</td>\n",
       "      <td>A3139BBC9C26C24DC01873C1917DDF68FBADE24E</td>\n",
       "      <td>UCLA Undergrad</td>\n",
       "      <td>2023-01-16</td>\n",
       "      <td>NaN</td>\n",
       "      <td>7d</td>\n",
       "      <td>Campus Library Instructional Computing Commons</td>\n",
       "      <td>2023-01-09 08:41:25</td>\n",
       "      <td>2023-01-12 12:14:58</td>\n",
       "      <td>3 days 03:33:33</td>\n",
       "      <td>Undergraduate</td>\n",
       "      <td>MacBook</td>\n",
       "      <td>Device</td>\n",
       "    </tr>\n",
       "    <tr>\n",
       "      <th>4</th>\n",
       "      <td>MP055</td>\n",
       "      <td>0B75EBE7E5A3F4B63BB2E52E29A54FBD0C3C3211</td>\n",
       "      <td>UCLA Undergrad</td>\n",
       "      <td>2023-01-20</td>\n",
       "      <td>NaN</td>\n",
       "      <td>7d</td>\n",
       "      <td>Campus Library Instructional Computing Commons</td>\n",
       "      <td>2023-01-09 08:46:35</td>\n",
       "      <td>2023-01-18 11:13:01</td>\n",
       "      <td>9 days 02:26:26</td>\n",
       "      <td>Undergraduate</td>\n",
       "      <td>MacBook</td>\n",
       "      <td>Device</td>\n",
       "    </tr>\n",
       "  </tbody>\n",
       "</table>\n",
       "</div>"
      ],
      "text/plain": [
       "         Barcode                        User ID Encryption    Patron Group  \\\n",
       "0         CBK204  CF4D6FB2CF4B8E4343F21A859E07528E8F94BCC8   UCLA Graduate   \n",
       "1          MP133  A63F80FF85A3C5D780EF0F0EA2C098B9B2C0B49D  UCLA Undergrad   \n",
       "2          HP040  B3CC169CC62E132440FEB1720E378A1252283042  UCLA Undergrad   \n",
       "3  CLICC-ML-0022  A3139BBC9C26C24DC01873C1917DDF68FBADE24E  UCLA Undergrad   \n",
       "4          MP055  0B75EBE7E5A3F4B63BB2E52E29A54FBD0C3C3211  UCLA Undergrad   \n",
       "\n",
       "     Due Date Renewal Date Item Policy  \\\n",
       "0  2023-01-16          NaN          7d   \n",
       "1  2023-01-16          NaN          7d   \n",
       "2  2023-01-16          NaN          7d   \n",
       "3  2023-01-16          NaN          7d   \n",
       "4  2023-01-20          NaN          7d   \n",
       "\n",
       "                                     Library Name       Loan Datetime  \\\n",
       "0                                  Biomed Library 2023-01-09 08:22:07   \n",
       "1  Campus Library Instructional Computing Commons 2023-01-09 08:37:48   \n",
       "2  Campus Library Instructional Computing Commons 2023-01-09 08:39:34   \n",
       "3  Campus Library Instructional Computing Commons 2023-01-09 08:41:25   \n",
       "4  Campus Library Instructional Computing Commons 2023-01-09 08:46:35   \n",
       "\n",
       "      Return Datetime   Loan Duration General Patron Group   Item Type  \\\n",
       "0 2023-01-17 17:38:49 8 days 09:16:42             Graduate  ChromeBook   \n",
       "1 2023-01-11 11:02:19 2 days 02:24:31        Undergraduate     MacBook   \n",
       "2 2023-01-09 09:31:51 0 days 00:52:17        Undergraduate   HP Laptop   \n",
       "3 2023-01-12 12:14:58 3 days 03:33:33        Undergraduate     MacBook   \n",
       "4 2023-01-18 11:13:01 9 days 02:26:26        Undergraduate     MacBook   \n",
       "\n",
       "  General Item Type  \n",
       "0            Device  \n",
       "1            Device  \n",
       "2            Device  \n",
       "3            Device  \n",
       "4            Device  "
      ]
     },
     "execution_count": 61,
     "metadata": {},
     "output_type": "execute_result"
    }
   ],
   "source": [
    "# Uncomment the following line to check transformation results\n",
    "# raw_df.to_csv('raw_df.csv', index=False)\n",
    "raw_df.head()"
   ]
  },
  {
   "attachments": {},
   "cell_type": "markdown",
   "metadata": {},
   "source": [
    "## Calculations"
   ]
  },
  {
   "attachments": {},
   "cell_type": "markdown",
   "metadata": {},
   "source": [
    "### 1 Transactions"
   ]
  },
  {
   "attachments": {},
   "cell_type": "markdown",
   "metadata": {},
   "source": [
    "#### 1.1 Overall what are the % of undergrads, grads, etc using CLICC loan services"
   ]
  },
  {
   "attachments": {},
   "cell_type": "markdown",
   "metadata": {},
   "source": [
    "1. Of all CLICC transactions listed in Alma for fall quarter, what % were the \"chromebook\" type (1-2 weeks) and what % were the \"small item\" type (6 hours)"
   ]
  },
  {
   "cell_type": "code",
   "execution_count": 62,
   "metadata": {},
   "outputs": [
    {
     "name": "stdout",
     "output_type": "stream",
     "text": [
      "7084 0.40245623941276115 0.5755223037831734\n"
     ]
    }
   ],
   "source": [
    "total_loans = raw_df.shape[0]\n",
    "num_7d = raw_df[raw_df['Item Policy'] == '7d'].shape[0]\n",
    "per_7d = num_7d / total_loans\n",
    "num_6h = raw_df[raw_df['Item Policy'] == '6h'].shape[0]  \n",
    "per_6h = num_6h / total_loans\n",
    "print(total_loans, per_7d, per_6h)"
   ]
  },
  {
   "attachments": {},
   "cell_type": "markdown",
   "metadata": {},
   "source": [
    "2. Of all the small item type loans (6 hours) what was the average loan length for patrons - % breakdown could also be shown, ie 24% < 2 hours, 35% between 2 - 4 hours, the rest >6 hours"
   ]
  },
  {
   "cell_type": "code",
   "execution_count": 63,
   "metadata": {},
   "outputs": [],
   "source": [
    "small_df = raw_df[raw_df['Item Policy'] == '6h']\n",
    "small_df_returned = small_df[small_df['Loan Duration'].notnull()]"
   ]
  },
  {
   "cell_type": "code",
   "execution_count": 64,
   "metadata": {},
   "outputs": [
    {
     "data": {
      "image/png": "[encoded data removed]",
      "text/plain": [
       "<Figure size 1000x500 with 1 Axes>"
      ]
     },
     "metadata": {},
     "output_type": "display_data"
    }
   ],
   "source": [
    "total_seconds = small_df_returned['Loan Duration'].dt.total_seconds().astype(int)\n",
    "bins = [*range(0, 3600*13, 3600), total_seconds.max()]\n",
    "bin_counts = pd.cut(total_seconds, list(bins)).value_counts(normalize=True, sort=False)\n",
    "bins = [str(i) for i in range(1, 13)]\n",
    "bins.append('12+')\n",
    "\n",
    "# Plot the histogram\n",
    "plt.figure(figsize=(10, 5))\n",
    "plt.bar(bins, bin_counts)\n",
    "plt.xlabel('Loan Duration (hours)')\n",
    "plt.ylabel('Percentage of Loans')\n",
    "plt.title('Small Item Loan Duration')\n",
    "plt.show()"
   ]
  },
  {
   "attachments": {},
   "cell_type": "markdown",
   "metadata": {},
   "source": [
    "#### 3"
   ]
  },
  {
   "cell_type": "code",
   "execution_count": 75,
   "metadata": {},
   "outputs": [
    {
     "data": {
      "image/png": "[encoded data removed]",
      "text/plain": [
       "<Figure size 1000x500 with 1 Axes>"
      ]
     },
     "metadata": {},
     "output_type": "display_data"
    }
   ],
   "source": [
    "raw_counts = raw_df[raw_df['General Item Type'] == 'Device']['Item Type'].value_counts().sort_index().values\n",
    "renewal_series = renewal_df[renewal_df['General Item Type'] == 'Device']['Item Type'].value_counts().sort_index()\n",
    "renewal_counts = renewal_series.values\n",
    "renewal_names = renewal_series.index\n",
    "renewal_percent = renewal_counts / raw_counts\n",
    "\n",
    "# Plot the histogram\n",
    "plt.figure(figsize=(10, 5))\n",
    "plt.bar(renewal_names, renewal_percent)\n",
    "plt.xlabel('Device Type')\n",
    "plt.ylabel('Percentage of Renewals')\n",
    "plt.title('Device Renewal Percentage')\n",
    "plt.show()"
   ]
  }
 ],
 "metadata": {
  "kernelspec": {
   "display_name": "Python 3",
   "language": "python",
   "name": "python3"
  },
  "language_info": {
   "codemirror_mode": {
    "name": "ipython",
    "version": 3
   },
   "file_extension": ".py",
   "mimetype": "text/x-python",
   "name": "python",
   "nbconvert_exporter": "python",
   "pygments_lexer": "ipython3",
   "version": "3.9.13"
  },
  "orig_nbformat": 4,
  "vscode": {
   "interpreter": {
    "hash": "3beb0556f0fad32050b56f8c689466f8d7b709db2abc9d9dd392b4d36af0d780"
   }
  }
 },
 "nbformat": 4,
 "nbformat_minor": 2
}
